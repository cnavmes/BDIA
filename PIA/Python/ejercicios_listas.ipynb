{
 "cells": [
  {
   "cell_type": "markdown",
   "id": "b4155cd2",
   "metadata": {},
   "source": [
    "**Ejercicio 1** \n",
    "---\n",
    "Realizar un programa que inicialice una lista con 10 valores aleatorios (del 1 al 10) y  posteriormente muestre en pantalla cada elemento de la lista junto con su cuadrado y su  cubo. \n"
   ]
  },
  {
   "cell_type": "code",
   "execution_count": null,
   "id": "756aa0ac",
   "metadata": {},
   "outputs": [],
   "source": [
    "import random\n",
    "\n",
    "numeros = []\n",
    "for i in range(10):\n",
    "    numeros.append(random.randint(1,10))\n",
    "print(numeros)\n",
    "\n",
    "for numero in numeros:\n",
    "    print(f\"{numero}\\nCuadrado: {numero * numero}\\nCubo: {numero**3} \")"
   ]
  },
  {
   "cell_type": "markdown",
   "id": "a37ad55a",
   "metadata": {},
   "source": [
    "# Ejercicio 2 \n",
    "Crea una lista e inicializala con 5 cadenas de caracteres leídas por teclado. Copia los  elementos de la lista en otra lista pero en orden inverso, y muestra sus elementos por la  pantalla. \n"
   ]
  },
  {
   "cell_type": "code",
   "execution_count": null,
   "id": "b60f7b9f",
   "metadata": {},
   "outputs": [],
   "source": [
    "lista_cadenas = []\n",
    "lista_cadenas2 = []\n",
    "\n",
    "for i in range(5):\n",
    "    cadena = input(\"Introduce una cadena: \")\n",
    "    lista_cadenas.append(cadena)\n",
    "\n",
    "lista_cadenas2.append(lista_cadenas[::-1])\n",
    "\n",
    "print(lista_cadenas)\n",
    "print(lista_cadenas2)\n"
   ]
  },
  {
   "cell_type": "markdown",
   "id": "87d7fc50",
   "metadata": {},
   "source": [
    "# Ejercicio 3 \n",
    "Se quiere realizar un programa que lea por teclado las 5 notas obtenidas por un alumno  (comprendidas entre 0 y 10). A continuación debe mostrar todas las notas, la nota media,  la nota más alta que ha sacado y la menor. \n"
   ]
  },
  {
   "cell_type": "code",
   "execution_count": null,
   "id": "56a8b04d",
   "metadata": {},
   "outputs": [],
   "source": [
    "notas = []\n",
    "for i in range(5):\n",
    "    cadena = int(input(\"Introduce una cadena: \"))\n",
    "    notas.append(cadena)\n",
    "\n",
    "media = sum(notas) / len(notas)\n",
    "\n",
    "print(f\"Media: {media}, Nota máxima: {max(notas)}, Nota mínima: {min(notas)}\")"
   ]
  },
  {
   "cell_type": "markdown",
   "id": "2403d7ef",
   "metadata": {},
   "source": [
    "# Ejercicio 4 \n",
    "Programa que declare una lista y la vaya llenando de números hasta que introduzcamos  un número negativo. Entonces se debe imprimir el vector (sólo los elementos  introducidos). \n"
   ]
  },
  {
   "cell_type": "code",
   "execution_count": null,
   "id": "ae78b23d",
   "metadata": {},
   "outputs": [],
   "source": [
    "numeros = []\n",
    "\n",
    "while True:\n",
    "    try:\n",
    "        numero = int(input(\"Introduce un numero: \"))\n",
    "\n",
    "        if numero>= 0:\n",
    "            numeros.append(numero)\n",
    "        else:\n",
    "            break\n",
    "    except ValueError:\n",
    "        print(\"Introduce un numero positivo o uno negativo para salir\")\n",
    "        \n",
    "print(numeros)"
   ]
  },
  {
   "cell_type": "markdown",
   "id": "f7c1ee65",
   "metadata": {},
   "source": [
    "# Ejercicio 5 \n",
    "Hacer un programa que inicialice una lista de números con valores aleatorios (10 valores),  y posterior ordene los elementos de menor a mayor. \n"
   ]
  },
  {
   "cell_type": "code",
   "execution_count": null,
   "id": "148cee8c",
   "metadata": {},
   "outputs": [],
   "source": [
    "import random\n",
    "\n",
    "numeros = []\n",
    "\n",
    "for i in range(10):\n",
    "    numeros.append(random.randint(1,100))\n",
    "numeros_ordenados = numeros.sort()\n",
    "print(numeros_ordenados)"
   ]
  },
  {
   "cell_type": "markdown",
   "id": "1fa7a29c",
   "metadata": {},
   "source": [
    "# Ejercicio 6 \n",
    "Crea un programa que pida un número al usuario un número de mes (por ejemplo, el 4) y  diga cuántos días tiene (por ejemplo, 30) y el nombre del mes. Debes usar listas. Para  simplificarlo vamos a suponer que febrero tiene 28 días. \n"
   ]
  },
  {
   "cell_type": "code",
   "execution_count": null,
   "id": "b8b69c66",
   "metadata": {},
   "outputs": [],
   "source": [
    "meses = [\"Enero\",\"Febrero\",\"Marzo\",\"Abril\",\"Mayo\",\"Junio\",\"Julio\",\"Agosto\",\"Septiembre\",\"Octubre\",\"Noviembre\",\"Diciembre\"]\n",
    "dias = [31,28,31,30,31,30,31,31,30,31,30,31]\n",
    "\n",
    "mes = int(input(\"Introduce un numero de mes: \"))\n",
    "\n",
    "if 1 <= mes <= 12:\n",
    "    print(f\"El mes de {meses[mes - 1]} tiene {dias[mes - 1]} dias\")\n",
    "else:\n",
    "    print(\"Mes no válido\")"
   ]
  },
  {
   "cell_type": "markdown",
   "id": "82913f31",
   "metadata": {},
   "source": [
    "# Ejercicio 7 \n",
    "Programa que declare tres listas ‘lista1’, ‘lista2’ y ‘lista3’ de cinco enteros cada uno, pida  valores para ‘lista1’ y ‘lista2’ y calcule lista3=lista1+lista2. \n"
   ]
  },
  {
   "cell_type": "code",
   "execution_count": null,
   "id": "85168f84",
   "metadata": {},
   "outputs": [],
   "source": [
    "lista1 = []\n",
    "lista2 = []\n",
    "lista3 = []\n",
    "\n",
    "print(\"Introduce numeros para la lista 1: \")\n",
    "for i in range(5):\n",
    "    numero = int(input(f\"Numero {i + 1}:\"))\n",
    "    lista1.append(numero)\n",
    "\n",
    "print(\"Introduce numeros para la lista 2: \")\n",
    "for i in range(5):\n",
    "    numero = int(input(f\"Numero {i + 1}:\"))\n",
    "    lista2.append(numero)\n",
    "\n",
    "for i in range(5):\n",
    "    lista3.append(lista1[i] + lista2[i])\n",
    "\n",
    "print(lista1)\n",
    "print(lista2)\n",
    "print(lista3)"
   ]
  },
  {
   "cell_type": "markdown",
   "id": "38de9495",
   "metadata": {},
   "source": [
    "# Ejercicio 8 \n",
    "Queremos guardar los nombres y la edades de los alumnos de un curso. Realiza un  programa que introduzca el nombre y la edad de cada alumno. El proceso de lectura de  datos terminará cuando se introduzca como nombre un asterisco (*) Al finalizar se  mostrará los siguientes datos: \n",
    "• Todos lo alumnos mayores de edad. \n",
    "• Los alumnos mayores (los que tienen más edad) "
   ]
  },
  {
   "cell_type": "code",
   "execution_count": null,
   "id": "d6bb2fbf",
   "metadata": {},
   "outputs": [],
   "source": [
    "nombres = []\n",
    "edades = []\n",
    "\n",
    "while True:\n",
    "    nombre = input(\"Introduce nombre: \")\n",
    "    if nombre == \"*\":\n",
    "        break\n",
    "    edad = int(input(\"Introduce edad: \"))\n",
    "\n",
    "    nombres.append(nombre)\n",
    "    edades.append(edad)\n",
    "\n",
    "print(\"Mayores de edad:\")\n",
    "for nombre, edad in zip(nombres, edades):\n",
    "    if edad >= 18:\n",
    "        print(f\"Nombre: {nombre}, Edad: {edad}\")\n",
    "\n",
    "edad_maxima = max(edades)\n",
    "print(\"Alumnos mayores:\")\n",
    "\n",
    "for nombre, edad in zip(nombres, edades):\n",
    "    if edad == edad_maxima:\n",
    "        print(f\"Nombre: {nombre}\")"
   ]
  },
  {
   "cell_type": "markdown",
   "id": "f6adde0c",
   "metadata": {},
   "source": [
    "# Ejercicio 9 \n",
    "Queremos guardar la temperatura mínima y máxima de 5 días. Realiza un programa que  de la siguiente información:\n",
    "- La temperatura media de cada día \n",
    "- Los días con menos temperatura \n",
    "- Se lee una temperatura por teclado y se muestran los días cuya temperatura  máxima coincide con ella. si no existe ningún día se muestra un mensaje de  información. "
   ]
  },
  {
   "cell_type": "code",
   "execution_count": null,
   "id": "137b91d7",
   "metadata": {},
   "outputs": [],
   "source": [
    "temperaturas = []\n",
    "\n",
    "for i in range(5):\n",
    "    try:\n",
    "        temp_min = float(input(f\"Introduce temperatura mínima para día {i + 1}\"))\n",
    "        temp_max = float(input(f\"Introduce temperatura máxima para día {i + 1}\"))\n",
    "    except ValueError:\n",
    "        print(\"Valor incorrecto\")\n",
    "    temperaturas.append([temp_min,temp_max])\n",
    "\n",
    "print(\"Temperaturas medias: \")\n",
    "for i in range(5):\n",
    "    media = (temperaturas[i][0] + temperaturas[i][1]) / 2\n",
    "    print(f\"Dia {i + 1}: {media}ºC\")\n",
    "\n",
    "print(\"Dias con menos temperatura: \")\n",
    "temp_minima = min(t[0] for t in temperaturas)\n",
    "\n",
    "for i in range(5):\n",
    "    if temperaturas[i][0] == temp_minima:\n",
    "        print(f\"Dia {i + 1}: {temperaturas[i][0]}\")\n",
    "\n",
    "temperatura_buscada = float(input(\"Introduce máxima a buscar: \"))\n",
    "encontrado = False\n",
    "for i in range(5):\n",
    "    if temperaturas[i][1] == temperatura_buscada:\n",
    "        print(f\"Dia {i + 1} coincide con la temperatura {temperatura_buscada}\")\n",
    "        encontrado = True\n",
    "\n",
    "if not encontrado:\n",
    "    print(f\"No coincide ningun dia con la temperatura {temperatura_buscada}2ºC\")"
   ]
  },
  {
   "cell_type": "markdown",
   "id": "35d75baf",
   "metadata": {},
   "source": [
    "# Ejercicio 10 \n",
    "Diseñar el algoritmo correspondiente a un programa, que: \n",
    "- Crea una tabla (lista con dos dimensiones) de 5x5 enteros. \n",
    "- Carga la tabla con valores numéricos enteros. \n",
    "- Suma todos los elementos de cada fila y todos los elementos de cada columna  visualizando los resultados en pantalla. "
   ]
  },
  {
   "cell_type": "code",
   "execution_count": null,
   "id": "7ebb8345",
   "metadata": {},
   "outputs": [],
   "source": [
    "import random\n",
    "tabla = []\n",
    "\n",
    "for i in range(5):\n",
    "    fila = []\n",
    "    for j in range(5):\n",
    "        fila.append(random.randint(1, 100))\n",
    "    tabla.append(fila)\n",
    "\n",
    "print(\"Tabla:\\n\")\n",
    "\n",
    "for fila in tabla:\n",
    "    for num in fila:\n",
    "        print(f\"{num:4}\", end=\"\")\n",
    "    print()\n",
    "print(\"\\n\")\n",
    "print(\"Suma de los elementos de cada fila:\\n\")\n",
    "\n",
    "for i in range(5):\n",
    "    suma = sum(tabla[i])\n",
    "    print(f\"Fila {i + 1}: {suma}\")\n",
    "print(\"\\n\")\n",
    "\n",
    "print(\"Suma de los elementos de las columnas:\\n\")\n",
    "\n",
    "for j in range(5):\n",
    "    suma_columna = 0\n",
    "    for i in range(5):\n",
    "        suma_columna += tabla[i][j]\n",
    "    print(f\"Suma columna {j + 1}: {suma_columna}\")"
   ]
  },
  {
   "cell_type": "markdown",
   "id": "7414dccd",
   "metadata": {},
   "source": [
    "# Ejercicio 11 \n",
    "Diseñar el algoritmo correspondiente a un programa, que: \n",
    "- Crea una tabla bidimensional de longitud 5x5 y nombre ‘diagonal’. \n",
    "- Carga la tabla de forma que los componentes pertenecientes a la diagonal de la  matriz tomen el valor 1 y el resto el valor 0. \n",
    "- Muestra el contenido de la tabla en pantalla. "
   ]
  },
  {
   "cell_type": "code",
   "execution_count": null,
   "id": "4020446c",
   "metadata": {},
   "outputs": [],
   "source": [
    "diagonal = []\n",
    "\n",
    "for i in range(5):\n",
    "    fila = []\n",
    "    for j in range(5):\n",
    "        if i == j:\n",
    "            fila.append(1)\n",
    "        else:\n",
    "            fila.append(0)\n",
    "    diagonal.append(fila)\n",
    "\n",
    "for fila in diagonal:\n",
    "    for numero in fila:\n",
    "        print(f\"{numero:2}\",end=\"\")\n",
    "    print()\n",
    "        "
   ]
  },
  {
   "cell_type": "markdown",
   "id": "90db1b2d",
   "metadata": {},
   "source": [
    "# Ejercicio 12 \n",
    "Diseñar el algoritmo correspondiente a un programa, que: \n",
    "- Crea una tabla bidimensional de longitud 5x15 y nombre ‘marco’. \n",
    "- Carga la tabla con dos únicos valores 0 y 1, donde el valor uno ocupará las  posiciones o elementos que delimitan la tabla, es decir, las más externas, mientras  que el resto de los elementos contendrán el valor 0. \n",
    "- 111111111111111 \n",
    "- 100000000000001 \n",
    "- 100000000000001 \n",
    "- 100000000000001 \n",
    "- 111111111111111 \n",
    "- Visualiza el contenido de la matriz en pantalla. "
   ]
  },
  {
   "cell_type": "code",
   "execution_count": null,
   "id": "f76aa592",
   "metadata": {},
   "outputs": [],
   "source": [
    "marco = []\n",
    "\n",
    "for i in range(5):\n",
    "    fila = []\n",
    "    for j in range(15):\n",
    "        if i == 0 or i == 4 or j == 0 or j == 14:\n",
    "            fila.append(1)\n",
    "        else:\n",
    "            fila.append(0)\n",
    "    marco.append(fila)\n",
    "for fila in marco:\n",
    "    print(\"\".join(str(numero) for numero in fila))\n"
   ]
  },
  {
   "cell_type": "markdown",
   "id": "74c19ff1",
   "metadata": {},
   "source": [
    "# Ejercicio 13 \n",
    "De una empresa de transporte se quiere guardar el nombre de los conductores que tiene,  y los kilómetros que conducen cada día de la semana. \n",
    "Para guardar esta información se van a utilizar dos arreglos: \n",
    "- Nombre: Lista para guardar los nombres de los conductores. \n",
    "- kms: Tabla para guardar los kilómetros que realizan cada día de la semana. \n",
    "Se quiere generar una nueva lista (“total_kms”) con los kilómetros totales que realza cada  conductor.\n",
    "Al finalizar se muestra la lista con los nombres de conductores y los kilómetros que ha  realizado. \n"
   ]
  }
 ],
 "metadata": {
  "kernelspec": {
   "display_name": "base",
   "language": "python",
   "name": "python3"
  },
  "language_info": {
   "codemirror_mode": {
    "name": "ipython",
    "version": 3
   },
   "file_extension": ".py",
   "mimetype": "text/x-python",
   "name": "python",
   "nbconvert_exporter": "python",
   "pygments_lexer": "ipython3",
   "version": "3.13.5"
  }
 },
 "nbformat": 4,
 "nbformat_minor": 5
}
