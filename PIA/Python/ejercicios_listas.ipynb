{
 "cells": [
  {
   "cell_type": "markdown",
   "id": "b4155cd2",
   "metadata": {},
   "source": [
    "**Ejercicio 1** \n",
    "---\n",
    "Realizar un programa que inicialice una lista con 10 valores aleatorios (del 1 al 10) y  posteriormente muestre en pantalla cada elemento de la lista junto con su cuadrado y su  cubo. \n"
   ]
  },
  {
   "cell_type": "code",
   "execution_count": null,
   "id": "756aa0ac",
   "metadata": {},
   "outputs": [],
   "source": [
    "import random\n",
    "\n",
    "numeros = []\n",
    "for i in range(10):\n",
    "    numeros.append(random.randint(1,10))\n",
    "print(numeros)\n",
    "\n",
    "for numero in numeros:\n",
    "    print(f\"{numero}\\nCuadrado: {numero * numero}\\nCubo: {numero**3} \")"
   ]
  },
  {
   "cell_type": "markdown",
   "id": "a37ad55a",
   "metadata": {},
   "source": [
    "# Ejercicio 2 \n",
    "Crea una lista e inicializala con 5 cadenas de caracteres leídas por teclado. Copia los  elementos de la lista en otra lista pero en orden inverso, y muestra sus elementos por la  pantalla. \n"
   ]
  },
  {
   "cell_type": "code",
   "execution_count": null,
   "id": "b60f7b9f",
   "metadata": {},
   "outputs": [],
   "source": [
    "lista_cadenas = []\n",
    "lista_cadenas2 = []\n",
    "\n",
    "for i in range(5):\n",
    "    cadena = input(\"Introduce una cadena: \")\n",
    "    lista_cadenas.append(cadena)\n",
    "\n",
    "lista_cadenas2.append(lista_cadenas[::-1])\n",
    "\n",
    "print(lista_cadenas)\n",
    "print(lista_cadenas2)\n"
   ]
  },
  {
   "cell_type": "markdown",
   "id": "87d7fc50",
   "metadata": {},
   "source": [
    "# Ejercicio 3 \n",
    "Se quiere realizar un programa que lea por teclado las 5 notas obtenidas por un alumno  (comprendidas entre 0 y 10). A continuación debe mostrar todas las notas, la nota media,  la nota más alta que ha sacado y la menor. \n"
   ]
  },
  {
   "cell_type": "code",
   "execution_count": null,
   "id": "56a8b04d",
   "metadata": {},
   "outputs": [
    {
     "name": "stdout",
     "output_type": "stream",
     "text": [
      "[1, 2, 3, 4, 5]\n",
      "Media: 3.0, Nota máxima: 5, Nota mínima: 1\n"
     ]
    }
   ],
   "source": [
    "notas = []\n",
    "for i in range(5):\n",
    "    cadena = int(input(\"Introduce una cadena: \"))\n",
    "    notas.append(cadena)\n",
    "\n",
    "media = sum(notas) / len(notas)\n",
    "\n",
    "print(f\"Media: {media}, Nota máxima: {max(notas)}, Nota mínima: {min(notas)}\")"
   ]
  },
  {
   "cell_type": "markdown",
   "id": "2403d7ef",
   "metadata": {},
   "source": [
    "# Ejercicio 4 \n",
    "Programa que declare una lista y la vaya llenando de números hasta que introduzcamos  un número negativo. Entonces se debe imprimir el vector (sólo los elementos  introducidos). \n"
   ]
  },
  {
   "cell_type": "code",
   "execution_count": null,
   "id": "ae78b23d",
   "metadata": {},
   "outputs": [],
   "source": [
    "numeros = []\n",
    "\n",
    "while True:\n",
    "    try:\n",
    "        numero = int(input(\"Introduce un numero: \"))\n",
    "\n",
    "        if numero>= 0:\n",
    "            numeros.append(numero)\n",
    "        else:\n",
    "            break\n",
    "    except ValueError:\n",
    "        print(\"Introduce un numero positivo o uno negativo para salir\")\n",
    "        \n",
    "print(numeros)"
   ]
  },
  {
   "cell_type": "markdown",
   "id": "f7c1ee65",
   "metadata": {},
   "source": [
    "# Ejercicio 5 \n",
    "Hacer un programa que inicialice una lista de números con valores aleatorios (10 valores),  y posterior ordene los elementos de menor a mayor. \n"
   ]
  },
  {
   "cell_type": "code",
   "execution_count": null,
   "id": "148cee8c",
   "metadata": {},
   "outputs": [
    {
     "name": "stdout",
     "output_type": "stream",
     "text": [
      "None\n"
     ]
    }
   ],
   "source": [
    "import random\n",
    "\n",
    "numeros = []\n",
    "\n",
    "for i in range(10):\n",
    "    numeros.append(random.randint(1,100))\n",
    "numeros_ordenados = numeros.sort()\n",
    "print(numeros_ordenados)"
   ]
  },
  {
   "cell_type": "markdown",
   "id": "1fa7a29c",
   "metadata": {},
   "source": [
    "# Ejercicio 6 \n",
    "Crea un programa que pida un número al usuario un número de mes (por ejemplo, el 4) y  diga cuántos días tiene (por ejemplo, 30) y el nombre del mes. Debes usar listas. Para  simplificarlo vamos a suponer que febrero tiene 28 días. \n"
   ]
  },
  {
   "cell_type": "code",
   "execution_count": null,
   "id": "b8b69c66",
   "metadata": {},
   "outputs": [
    {
     "ename": "TypeError",
     "evalue": "list indices must be integers or slices, not str",
     "output_type": "error",
     "traceback": [
      "\u001b[0;31m---------------------------------------------------------------------------\u001b[0m",
      "\u001b[0;31mTypeError\u001b[0m                                 Traceback (most recent call last)",
      "Cell \u001b[0;32mIn[28], line 5\u001b[0m\n\u001b[1;32m      2\u001b[0m dias \u001b[38;5;241m=\u001b[39m [\u001b[38;5;241m31\u001b[39m,\u001b[38;5;241m28\u001b[39m,\u001b[38;5;241m31\u001b[39m,\u001b[38;5;241m30\u001b[39m,\u001b[38;5;241m31\u001b[39m,\u001b[38;5;241m30\u001b[39m,\u001b[38;5;241m31\u001b[39m,\u001b[38;5;241m31\u001b[39m,\u001b[38;5;241m30\u001b[39m,\u001b[38;5;241m31\u001b[39m,\u001b[38;5;241m30\u001b[39m,\u001b[38;5;241m31\u001b[39m]\n\u001b[1;32m      4\u001b[0m mes \u001b[38;5;241m=\u001b[39m \u001b[38;5;28minput\u001b[39m(\u001b[38;5;124m\"\u001b[39m\u001b[38;5;124mIntroduce un numero de mes\u001b[39m\u001b[38;5;124m\"\u001b[39m)\n\u001b[0;32m----> 5\u001b[0m \u001b[38;5;28mprint\u001b[39m(\u001b[38;5;124mf\u001b[39m\u001b[38;5;124m\"\u001b[39m\u001b[38;5;124mTu mes tiene \u001b[39m\u001b[38;5;132;01m{\u001b[39;00mdias[mes]\u001b[38;5;132;01m}\u001b[39;00m\u001b[38;5;124m dias\u001b[39m\u001b[38;5;124m\"\u001b[39m)\n",
      "\u001b[0;31mTypeError\u001b[0m: list indices must be integers or slices, not str"
     ]
    }
   ],
   "source": [
    "meses = [1,2,3,4,5,6,7,8,9,10,11,12]\n",
    "dias = [31,28,31,30,31,30,31,31,30,31,30,31]\n",
    "\n",
    "mes = input(\"Introduce un numero de mes\")"
   ]
  }
 ],
 "metadata": {
  "kernelspec": {
   "display_name": "base",
   "language": "python",
   "name": "python3"
  },
  "language_info": {
   "codemirror_mode": {
    "name": "ipython",
    "version": 3
   },
   "file_extension": ".py",
   "mimetype": "text/x-python",
   "name": "python",
   "nbconvert_exporter": "python",
   "pygments_lexer": "ipython3",
   "version": "3.13.5"
  }
 },
 "nbformat": 4,
 "nbformat_minor": 5
}
