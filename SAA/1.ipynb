{
 "cells": [
  {
   "cell_type": "markdown",
   "id": "d1c5d8d0",
   "metadata": {},
   "source": [
    "# Leer y Escribir"
   ]
  },
  {
   "cell_type": "code",
   "execution_count": null,
   "id": "9407177e",
   "metadata": {},
   "outputs": [],
   "source": [
    "import pandas as pd\n",
    "#Leer de un CSV\n",
    "df_penguins = pd.read_csv('penguins.csv')\n",
    "df_penguins.head(2)"
   ]
  },
  {
   "cell_type": "code",
   "execution_count": null,
   "id": "277c28f5",
   "metadata": {},
   "outputs": [],
   "source": [
    "#Escribir DataFrame a CSV\n",
    "df_penguins.to_csv('penguins.csv', index=False)#Convierte DataFrame a CSV sin incluir nombre de fila"
   ]
  },
  {
   "cell_type": "markdown",
   "id": "af90dcdd",
   "metadata": {},
   "source": [
    "# Mezclar y Mostrar"
   ]
  },
  {
   "cell_type": "code",
   "execution_count": null,
   "id": "f4c59811",
   "metadata": {},
   "outputs": [],
   "source": [
    "df_shuffled = df_penguins.sample(frac=1) #Selecciona el total de filas y las mezcla\n",
    "df_shuffled.head(2)"
   ]
  },
  {
   "cell_type": "code",
   "execution_count": null,
   "id": "5e86e4a4",
   "metadata": {},
   "outputs": [],
   "source": [
    "df_sampled = df_penguins.sample(frac=0.5)\n",
    "print(f\"Longitud original: {len(df_penguins)}; Longitud sampled: {len(df_sampled)}\")"
   ]
  },
  {
   "cell_type": "markdown",
   "id": "b6b5f578",
   "metadata": {},
   "source": [
    "# Añadiendo columnas"
   ]
  },
  {
   "cell_type": "code",
   "execution_count": null,
   "id": "0dec8e9f",
   "metadata": {},
   "outputs": [],
   "source": [
    "import pandas as pd\n",
    "df = pd.DataFrame({'temp_celcius': [35.0, 25.0]}, index=['Delhi','Mumbai'])\n",
    "df"
   ]
  },
  {
   "cell_type": "code",
   "execution_count": null,
   "id": "23e4becc",
   "metadata": {},
   "outputs": [],
   "source": [
    "speed_values = [26.0, 31.0]\n",
    "df = df.assign(wind_speed_kmph=speed_values)\n",
    "df"
   ]
  },
  {
   "cell_type": "code",
   "execution_count": null,
   "id": "599d74b1",
   "metadata": {},
   "outputs": [],
   "source": [
    "df = df.assign(wind_speed_mph = lambda x: x['wind_speed_kmph']*0.621)\n",
    "df"
   ]
  },
  {
   "cell_type": "code",
   "execution_count": null,
   "id": "e6ddb493",
   "metadata": {},
   "outputs": [],
   "source": [
    "df.assign(temp_fahrenheit=lambda x: x['temp_celcius'] * 9/5 +32,\n",
    "          temp_kelvin= lambda x:(x['temp_fahrenheit']+ 459.67)*5/9)"
   ]
  }
 ],
 "metadata": {
  "kernelspec": {
   "display_name": "base",
   "language": "python",
   "name": "python3"
  },
  "language_info": {
   "codemirror_mode": {
    "name": "ipython",
    "version": 3
   },
   "file_extension": ".py",
   "mimetype": "text/x-python",
   "name": "python",
   "nbconvert_exporter": "python",
   "pygments_lexer": "ipython3",
   "version": "3.13.5"
  }
 },
 "nbformat": 4,
 "nbformat_minor": 5
}
